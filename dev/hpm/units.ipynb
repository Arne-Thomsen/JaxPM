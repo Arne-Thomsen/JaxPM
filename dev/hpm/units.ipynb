{
 "cells": [
  {
   "cell_type": "code",
   "execution_count": 1,
   "id": "562a93e7-d452-4860-818b-93d9f51ae8be",
   "metadata": {},
   "outputs": [],
   "source": [
    "%load_ext autoreload\n",
    "%autoreload 2"
   ]
  },
  {
   "cell_type": "code",
   "execution_count": 2,
   "id": "170fe6e1-a329-4027-bfbf-c72bfabbf3a7",
   "metadata": {},
   "outputs": [
    {
     "data": {
      "text/plain": [
       "[cuda(id=0)]"
      ]
     },
     "execution_count": 2,
     "metadata": {},
     "output_type": "execute_result"
    }
   ],
   "source": [
    "import h5py, os, tqdm, glob\n",
    "os.environ['XLA_PYTHON_CLIENT_MEM_FRACTION'] = '0.49'\n",
    "import numpy as np\n",
    "import matplotlib.pyplot as plt\n",
    "\n",
    "import jax\n",
    "import jax.numpy as jnp\n",
    "\n",
    "from jaxpm.painting import cic_paint, cic_read, compensate_cic\n",
    "from jaxpm.utils import power_spectrum\n",
    "from jaxpm.utils import _initialize_pk\n",
    "from jaxpm.pm import linear_field, lpt, make_ode_fn, pm_forces\n",
    "from jaxpm.kernels import fftk, gradient_kernel, invlaplace_kernel, longrange_kernel, invnabla_kernel\n",
    "from jaxpm import camels\n",
    "\n",
    "jax.devices(\"gpu\")"
   ]
  },
  {
   "cell_type": "code",
   "execution_count": 3,
   "id": "fc2a14c1-ecdd-40a8-9290-b00c0dec30d3",
   "metadata": {},
   "outputs": [],
   "source": [
    "parts_per_dim = 64\n",
    "mesh_per_dim = parts_per_dim\n",
    "mesh_shape = [mesh_per_dim] * 3\n",
    "\n",
    "SNAPSHOT = \"/cluster/work/refregier/athomsen/flatiron/CAMELS/Sims/IllustrisTNG/CV/CV_0/snapshot_090.hdf5\""
   ]
  },
  {
   "cell_type": "markdown",
   "id": "a67d6c87-2407-4a77-a281-605914d8e882",
   "metadata": {},
   "source": [
    "# density rho"
   ]
  },
  {
   "cell_type": "code",
   "execution_count": 4,
   "id": "ca0540ee-4c8d-4d44-a542-d13156ed3a19",
   "metadata": {},
   "outputs": [],
   "source": [
    "with h5py.File(SNAPSHOT, \"r\") as data:\n",
    "    box_size = data[\"Header\"].attrs[\"BoxSize\"] / 1e3  # size of the snapshot in comoving Mpc/h\n",
    "    \n",
    "    gas_pos = data[\"PartType0/Coordinates\"][:] / 1e3  # Mpc/h\n",
    "    gas_pos *= mesh_per_dim / box_size  # rescaling positions to grid coordinates\n",
    "\n",
    "    gas_mass = data[\"PartType0/Masses\"][:] * 1e10  # Msun/h\n",
    "\n",
    "    # density\n",
    "    gas_rho = data[\"PartType0/Density\"][:] * 1e10 * (1e3) ** 3  # (Msun/h)/(Mpc/h)^3"
   ]
  },
  {
   "cell_type": "code",
   "execution_count": 5,
   "id": "8c55935d-1a49-4847-bb4c-8e3ca1b70194",
   "metadata": {},
   "outputs": [],
   "source": [
    "def print_stats(array):\n",
    "    print(f\"mean = {array.mean():5e}\")\n",
    "    print(f\"min = {array.min():5e}\")\n",
    "    print(f\"max = {array.max():5e}\")"
   ]
  },
  {
   "cell_type": "code",
   "execution_count": 6,
   "id": "a191f83f-6d8d-478d-8f45-21a99b81b25f",
   "metadata": {},
   "outputs": [
    {
     "name": "stderr",
     "output_type": "stream",
     "text": [
      "2025-01-08 17:37:25.851029: W external/xla/xla/service/gpu/nvptx_compiler.cc:760] The NVIDIA driver's CUDA version is 12.2 which is older than the ptxas CUDA version (12.3.107). Because the driver is older than the ptxas version, XLA is disabling parallel compilation, which may slow down compilation. You should update your NVIDIA driver or use the NVIDIA-provided CUDA forward compatibility packages.\n"
     ]
    }
   ],
   "source": [
    "rho_gas_pm = cic_paint(jnp.zeros([mesh_per_dim] * 3), gas_pos, gas_mass)\n",
    "gas_rho_pm = cic_read(rho_gas_pm, gas_pos)\n",
    "gas_rho_pm *= (mesh_per_dim / box_size) ** 3  # (Msun/h)/(Mpc/h)^3"
   ]
  },
  {
   "cell_type": "code",
   "execution_count": 7,
   "id": "c69ec468-ecaa-4507-94d6-625ce87835f4",
   "metadata": {},
   "outputs": [
    {
     "name": "stdout",
     "output_type": "stream",
     "text": [
      "mean = 6.787831e+13\n",
      "min = 2.448290e+08\n",
      "max = 6.211368e+18\n",
      "mean = 5.434432e+11\n",
      "min = 2.543974e+08\n",
      "max = 1.457556e+13\n"
     ]
    },
    {
     "data": {
      "text/plain": [
       "<matplotlib.legend.Legend at 0x14f96e7972d0>"
      ]
     },
     "execution_count": 7,
     "metadata": {},
     "output_type": "execute_result"
    },
    {
     "data": {
      "image/png": "[encoded data removed]",
      "text/plain": [
       "<Figure size 640x480 with 1 Axes>"
      ]
     },
     "metadata": {},
     "output_type": "display_data"
    }
   ],
   "source": [
    "print_stats(gas_rho)\n",
    "print_stats(gas_rho_pm)\n",
    "plt.hist(np.log10(gas_rho), alpha=0.5, density=True, label=\"camels\")\n",
    "plt.hist(np.log10(gas_rho_pm), alpha=0.5, density=True, label=\"pm\")\n",
    "plt.legend()"
   ]
  },
  {
   "cell_type": "markdown",
   "id": "bd545f45-b612-4190-a635-5718e95eb3d4",
   "metadata": {},
   "source": [
    "# pressure P"
   ]
  },
  {
   "cell_type": "code",
   "execution_count": 8,
   "id": "1cfff658-1f4b-49e4-8b94-fb2deff62d3e",
   "metadata": {},
   "outputs": [],
   "source": [
    "with h5py.File(SNAPSHOT, \"r\") as data:\n",
    "    box_size = data[\"Header\"].attrs[\"BoxSize\"] / 1e3  # size of the snapshot in comoving Mpc/h\n",
    "    \n",
    "    gas_pos = data[\"PartType0/Coordinates\"][:] / 1e3  # Mpc/h\n",
    "    gas_pos *= mesh_per_dim / box_size  # rescaling positions to grid coordinates\n",
    "\n",
    "    gas_mass = data[\"PartType0/Masses\"][:] * 1e10  # Msun/h\n",
    "\n",
    "    # density\n",
    "    gas_rho = data[\"PartType0/Density\"][:] * 1e10 * (1e3) ** 3  # (Msun/h)/(Mpc/h)^3\n",
    "\n",
    "    # pressure\n",
    "    gamma = 5.0 / 3.0\n",
    "    gas_U = data[\"PartType0/InternalEnergy\"][:]  # (km/s)^2\n",
    "    gas_P = (gamma - 1.0) * gas_U * gas_rho  # units are (Msun/h)*(km/s)^2/(Mpc/h)^3"
   ]
  },
  {
   "cell_type": "code",
   "execution_count": 9,
   "id": "6d2cf729-ddc7-4b60-8b3e-ce446569c8dc",
   "metadata": {},
   "outputs": [],
   "source": [
    "P_gas_pm = cic_paint(jnp.zeros([mesh_per_dim] * 3), gas_pos, (gamma - 1.0) * gas_mass * gas_U)\n",
    "gas_P_pm = cic_read(P_gas_pm, gas_pos)  # units are\n",
    "gas_P_pm *= (mesh_per_dim / box_size) ** 3"
   ]
  },
  {
   "cell_type": "code",
   "execution_count": 10,
   "id": "22432c6a-fc16-4a16-8faf-7b15327a6ae9",
   "metadata": {},
   "outputs": [
    {
     "name": "stdout",
     "output_type": "stream",
     "text": [
      "mean = 1.394123e+17\n",
      "min = 7.215583e+09\n",
      "max = 1.796200e+22\n",
      "mean = 4.513338e+16\n",
      "min = 7.475894e+09\n",
      "max = 2.655331e+18\n"
     ]
    },
    {
     "data": {
      "text/plain": [
       "<matplotlib.legend.Legend at 0x14f8fc1b0390>"
      ]
     },
     "execution_count": 10,
     "metadata": {},
     "output_type": "execute_result"
    },
    {
     "data": {
      "image/png": "[encoded data removed]",
      "text/plain": [
       "<Figure size 640x480 with 1 Axes>"
      ]
     },
     "metadata": {},
     "output_type": "display_data"
    }
   ],
   "source": [
    "print_stats(gas_P)\n",
    "print_stats(gas_P_pm)\n",
    "plt.hist(np.log10(gas_P), alpha=0.5, density=True, label=\"camels\")\n",
    "plt.hist(np.log10(gas_P_pm), alpha=0.5, density=True, label=\"pm\")\n",
    "plt.legend()"
   ]
  },
  {
   "cell_type": "code",
   "execution_count": null,
   "id": "a2915b05-0004-48c9-9e3b-93842cf08361",
   "metadata": {},
   "outputs": [],
   "source": []
  }
 ],
 "metadata": {
  "kernelspec": {
   "display_name": "flatiron",
   "language": "python",
   "name": "flatiron"
  },
  "language_info": {
   "codemirror_mode": {
    "name": "ipython",
    "version": 3
   },
   "file_extension": ".py",
   "mimetype": "text/x-python",
   "name": "python",
   "nbconvert_exporter": "python",
   "pygments_lexer": "ipython3",
   "version": "3.11.6"
  }
 },
 "nbformat": 4,
 "nbformat_minor": 5
}
